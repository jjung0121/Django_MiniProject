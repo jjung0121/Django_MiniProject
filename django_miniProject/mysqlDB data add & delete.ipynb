{
 "cells": [
  {
   "cell_type": "markdown",
   "metadata": {},
   "source": [
    "# DB에서 데이터 가져와서 읽기"
   ]
  },
  {
   "cell_type": "code",
   "execution_count": null,
   "metadata": {},
   "outputs": [],
   "source": [
    "import pymysql\n",
    "\n",
    "# MySQL Connection 연결\n",
    "conn = pymysql.connect(host = 'localhost', \n",
    "                       user = 'root', \n",
    "                       password = '1234',\n",
    "                       db = 'course', \n",
    "                       charset='utf8')\n",
    "\n",
    "# Connection 으로부터 Cursor 생성\n",
    "curs = conn.cursor()\n",
    "\n",
    "# SQL문 실행\n",
    "sql = \"select * from course_major\"\n",
    "curs.execute(sql)\n",
    "\n",
    "# 데이타 Fetch\n",
    "rows = curs.fetchall()\n",
    "\n",
    "# 데이터 한라인씩 출력\n",
    "for i in rows :\n",
    "     print(i)\n",
    "        \n",
    "# Connection 닫기\n",
    "conn.close()"
   ]
  },
  {
   "cell_type": "markdown",
   "metadata": {},
   "source": [
    "# DB 데이터 삭제 "
   ]
  },
  {
   "cell_type": "code",
   "execution_count": null,
   "metadata": {},
   "outputs": [],
   "source": [
    "import pymysql\n",
    "\n",
    "# MySQL Connection 연결\n",
    "conn = pymysql.connect(host = 'localhost', \n",
    "                       user = 'root', \n",
    "                       password = '1234',\n",
    "                       db = 'course', \n",
    "                       charset='utf8')\n",
    "\n",
    "# Connection 으로부터 Cursor 생성\n",
    "curs = conn.cursor()\n",
    "\n",
    "# SQL문 실행\n",
    "sql = \"delete from course_student\"\n",
    "curs.execute(sql)\n",
    "sql = \"delete from course_major\"\n",
    "curs.execute(sql)\n",
    "\n",
    "# 변경사항 db 반영 \n",
    "conn.commit()\n",
    "        \n",
    "# Connection 닫기\n",
    "conn.close()\n",
    "\n",
    "print(\"데이터 삭제 성공\")"
   ]
  },
  {
   "cell_type": "markdown",
   "metadata": {},
   "source": [
    "# csv 파일 데이터 DB에 저장"
   ]
  },
  {
   "cell_type": "markdown",
   "metadata": {},
   "source": [
    "### major"
   ]
  },
  {
   "cell_type": "code",
   "execution_count": 1,
   "metadata": {},
   "outputs": [
    {
     "name": "stdout",
     "output_type": "stream",
     "text": [
      "major 저장 완료\n"
     ]
    }
   ],
   "source": [
    "import pymysql\n",
    "import pandas as pd\n",
    "\n",
    "# MySQL Connection 연결\n",
    "conn = pymysql.connect(host = 'localhost', \n",
    "                       user = 'root', \n",
    "                       password = '1234',\n",
    "                       db = 'course', \n",
    "                       charset='utf8')\n",
    "\n",
    "# Connection 으로부터 Cursor 생성\n",
    "curs = conn.cursor()\n",
    "\n",
    "csv_data = pd.read_csv('data/major.csv')\n",
    "sql = \"INSERT INTO course_major(major_id, major_title) values(%s, %s)\"\n",
    "\n",
    "for row in csv_data.get_values():\n",
    "    curs.execute(sql, tuple(row))\n",
    "\n",
    "conn.commit()\n",
    "conn.close()\n",
    "\n",
    "print(\"major 저장 완료\")"
   ]
  },
  {
   "cell_type": "markdown",
   "metadata": {},
   "source": [
    "### student"
   ]
  },
  {
   "cell_type": "code",
   "execution_count": 1,
   "metadata": {},
   "outputs": [
    {
     "name": "stdout",
     "output_type": "stream",
     "text": [
      "student 저장 완료\n"
     ]
    }
   ],
   "source": [
    "import pymysql\n",
    "import pandas as pd\n",
    "import numpy as np\n",
    "\n",
    "# MySQL Connection 연결\n",
    "conn = pymysql.connect(host = 'localhost', \n",
    "                       user = 'root', \n",
    "                       password = '1234',\n",
    "                       db = 'course', \n",
    "                       charset='utf8')\n",
    "\n",
    "# Connection 으로부터 Cursor 생성\n",
    "curs = conn.cursor()\n",
    "\n",
    "# csv 파일로부터 데이터 읽기\n",
    "csv_data = pd.read_csv('data/student.csv')\n",
    "\n",
    "# NaN 값 공란 처리\n",
    "csv_data = csv_data.fillna(\"\")\n",
    "\n",
    "# SQL문 실행\n",
    "sql = \"INSERT INTO course_student(studentID, name, major_id, phone, address, hobby, skill) values(%s, %s, %s, %s, %s, %s, %s)\"\n",
    "for row in csv_data.get_values():\n",
    "    curs.execute(sql, tuple(row))\n",
    "\n",
    "conn.commit()\n",
    "conn.close()\n",
    "\n",
    "print(\"student 저장 완료\")"
   ]
  },
  {
   "cell_type": "code",
   "execution_count": null,
   "metadata": {},
   "outputs": [],
   "source": []
  },
  {
   "cell_type": "code",
   "execution_count": null,
   "metadata": {},
   "outputs": [],
   "source": []
  }
 ],
 "metadata": {
  "kernelspec": {
   "display_name": "Django Shell-Plus",
   "language": "python",
   "name": "django_extensions"
  },
  "language_info": {
   "codemirror_mode": {
    "name": "ipython",
    "version": 3
   },
   "file_extension": ".py",
   "mimetype": "text/x-python",
   "name": "python",
   "nbconvert_exporter": "python",
   "pygments_lexer": "ipython3",
   "version": "3.6.8"
  }
 },
 "nbformat": 4,
 "nbformat_minor": 2
}
